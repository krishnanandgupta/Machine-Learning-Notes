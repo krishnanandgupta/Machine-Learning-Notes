{
 "cells": [
  {
   "cell_type": "markdown",
   "id": "ad9a597d",
   "metadata": {},
   "source": [
    "## OOPS practical"
   ]
  },
  {
   "cell_type": "code",
   "execution_count": 8,
   "id": "4b8e49ec",
   "metadata": {},
   "outputs": [],
   "source": [
    "class ClassName(object):\n",
    "    pass"
   ]
  },
  {
   "cell_type": "code",
   "execution_count": 9,
   "id": "af793c6c",
   "metadata": {},
   "outputs": [
    {
     "data": {
      "text/plain": [
       "<__main__.ClassName at 0x1b90bb94f10>"
      ]
     },
     "execution_count": 9,
     "metadata": {},
     "output_type": "execute_result"
    }
   ],
   "source": [
    "ClassName()"
   ]
  },
  {
   "cell_type": "code",
   "execution_count": null,
   "id": "527f0107",
   "metadata": {},
   "outputs": [],
   "source": [
    "__new__"
   ]
  },
  {
   "cell_type": "code",
   "execution_count": null,
   "id": "1688648d",
   "metadata": {},
   "outputs": [],
   "source": [
    "__init__"
   ]
  },
  {
   "cell_type": "code",
   "execution_count": 16,
   "id": "fffeddb3",
   "metadata": {},
   "outputs": [],
   "source": [
    "class ObjectCreationDemo():\n",
    "    def message(self):\n",
    "        print(\"Message is called\")\n",
    "        "
   ]
  },
  {
   "cell_type": "code",
   "execution_count": 17,
   "id": "034b042e",
   "metadata": {},
   "outputs": [
    {
     "name": "stdout",
     "output_type": "stream",
     "text": [
      "Message is called\n"
     ]
    }
   ],
   "source": [
    "ObjectCreationDemo().message()"
   ]
  },
  {
   "cell_type": "code",
   "execution_count": 15,
   "id": "4de40a33",
   "metadata": {},
   "outputs": [],
   "source": [
    "x=3"
   ]
  },
  {
   "cell_type": "code",
   "execution_count": null,
   "id": "7d09d90d",
   "metadata": {},
   "outputs": [],
   "source": []
  },
  {
   "cell_type": "code",
   "execution_count": 67,
   "id": "fe3ad7a2",
   "metadata": {},
   "outputs": [],
   "source": [
    "class Product:\n",
    "    def __init__(self,name,price,size,qty,description,brand,color ):\n",
    "        self.name=name\n",
    "        self.price=price\n",
    "        self.size=size\n",
    "        self.qty=qty\n",
    "        self.description=description\n",
    "        self.brand=brand\n",
    "        self.color=color\n",
    "    def __repr__(self):\n",
    "        return f\"Product(name={self.name},price={self.price},size={self.size},qty={self.qty},description={self.description},brand={self.brand},color={self.color})\"\n",
    "    \n",
    "    def __str__(self):\n",
    "        return f\"This product name is {self.name}\"\n",
    "    \n",
    "    def productDetail():\n",
    "        print(\"\")\n",
    "    def addProduct(self):\n",
    "        pass\n",
    "    \n",
    "    def removeProduct(self):\n",
    "        pass\n",
    "    def getProductByName(self):\n",
    "        pass\n",
    "    def updateProduct(self,name,price,size,qty,description,brand,color):\n",
    "        if self.name!=name:\n",
    "            self.name=name\n",
    "        self.name=name\n",
    "        self.price=price\n",
    "        self.size=size\n",
    "        self.qty=qty\n",
    "        self.description=description\n",
    "        if self.brand!=brand:\n",
    "            self.brand=brand\n",
    "        self.color=color\n",
    "    \n",
    "\n",
    "        \n",
    "        \n",
    "        \n",
    "    \n",
    "        \n",
    "\n",
    "\n",
    "        "
   ]
  },
  {
   "cell_type": "code",
   "execution_count": 68,
   "id": "88cfee62",
   "metadata": {},
   "outputs": [
    {
     "ename": "TypeError",
     "evalue": "__init__() missing 7 required positional arguments: 'name', 'price', 'size', 'qty', 'description', 'brand', and 'color'",
     "output_type": "error",
     "traceback": [
      "\u001b[1;31m---------------------------------------------------------------------------\u001b[0m",
      "\u001b[1;31mTypeError\u001b[0m                                 Traceback (most recent call last)",
      "\u001b[1;32m<ipython-input-68-672aba7e6823>\u001b[0m in \u001b[0;36m<module>\u001b[1;34m\u001b[0m\n\u001b[1;32m----> 1\u001b[1;33m \u001b[0mProduct\u001b[0m\u001b[1;33m(\u001b[0m\u001b[1;33m)\u001b[0m\u001b[1;33m\u001b[0m\u001b[1;33m\u001b[0m\u001b[0m\n\u001b[0m",
      "\u001b[1;31mTypeError\u001b[0m: __init__() missing 7 required positional arguments: 'name', 'price', 'size', 'qty', 'description', 'brand', and 'color'"
     ]
    }
   ],
   "source": [
    "Product()"
   ]
  },
  {
   "cell_type": "code",
   "execution_count": 37,
   "id": "11e2a4b9",
   "metadata": {},
   "outputs": [],
   "source": [
    "p1=Product(name='Mobile',price=890,size='Large',qty=890,description=\"This is a product\",brand='XYZ',color='yellow')"
   ]
  },
  {
   "cell_type": "code",
   "execution_count": 44,
   "id": "d67792c2",
   "metadata": {},
   "outputs": [
    {
     "data": {
      "text/plain": [
       "Product(name=Mobile,price=890,size=Large,qty=890,description=This is a product,brand=XYZ,color=yellow)"
      ]
     },
     "execution_count": 44,
     "metadata": {},
     "output_type": "execute_result"
    }
   ],
   "source": [
    "p1"
   ]
  },
  {
   "cell_type": "code",
   "execution_count": 52,
   "id": "e024f3bf",
   "metadata": {},
   "outputs": [],
   "source": [
    "product_repo=ProductCollection()"
   ]
  },
  {
   "cell_type": "code",
   "execution_count": 53,
   "id": "7444897c",
   "metadata": {},
   "outputs": [],
   "source": [
    "product_repo.addProduct(p1)"
   ]
  },
  {
   "cell_type": "code",
   "execution_count": 55,
   "id": "29d72fd1",
   "metadata": {},
   "outputs": [
    {
     "data": {
      "text/plain": [
       "[Product(name=Mobile,price=890,size=Large,qty=890,description=This is a product,brand=XYZ,color=yellow)]"
      ]
     },
     "execution_count": 55,
     "metadata": {},
     "output_type": "execute_result"
    }
   ],
   "source": [
    "product_repo.getListOfProduct()"
   ]
  },
  {
   "cell_type": "code",
   "execution_count": 56,
   "id": "01121efc",
   "metadata": {},
   "outputs": [],
   "source": [
    "p2=Product(name='Mobile2',price=891,size='small',qty=890,description=\"This is a product\",brand='XYZ',color='balck')"
   ]
  },
  {
   "cell_type": "code",
   "execution_count": 58,
   "id": "dce1aaf1",
   "metadata": {},
   "outputs": [],
   "source": [
    "product_repo.addProduct(p2)"
   ]
  },
  {
   "cell_type": "code",
   "execution_count": 59,
   "id": "b6c8ab08",
   "metadata": {},
   "outputs": [
    {
     "data": {
      "text/plain": [
       "[Product(name=Mobile,price=890,size=Large,qty=890,description=This is a product,brand=XYZ,color=yellow),\n",
       " Product(name=Mobile2,price=891,size=small,qty=890,description=This is a product,brand=XYZ,color=balck)]"
      ]
     },
     "execution_count": 59,
     "metadata": {},
     "output_type": "execute_result"
    }
   ],
   "source": [
    "product_repo.getListOfProduct()"
   ]
  },
  {
   "cell_type": "code",
   "execution_count": 61,
   "id": "d7287554",
   "metadata": {},
   "outputs": [
    {
     "data": {
      "text/plain": [
       "Product(name=Mobile,price=890,size=Large,qty=890,description=This is a product,brand=XYZ,color=yellow)"
      ]
     },
     "execution_count": 61,
     "metadata": {},
     "output_type": "execute_result"
    }
   ],
   "source": [
    "p1"
   ]
  },
  {
   "cell_type": "code",
   "execution_count": 62,
   "id": "16bb92ad",
   "metadata": {},
   "outputs": [
    {
     "data": {
      "text/plain": [
       "Product(name=Mobile,price=890,size=Large,qty=890,description=This is a product,brand=XYZ,color=yellow)"
      ]
     },
     "execution_count": 62,
     "metadata": {},
     "output_type": "execute_result"
    }
   ],
   "source": [
    "p1"
   ]
  },
  {
   "cell_type": "code",
   "execution_count": 98,
   "id": "8f059529",
   "metadata": {},
   "outputs": [],
   "source": [
    "class Product:\n",
    "    def __init__(self,name=None,price=None,size=None,qty=None,description=None,brand=None,color=None):\n",
    "        self.name=name\n",
    "        self.price=price\n",
    "        self.size=size\n",
    "        self.qty=qty\n",
    "        self.description=description\n",
    "        self.brand=brand\n",
    "        self.color=color\n",
    "    def __repr__(self):\n",
    "        return f\"Product(name={self.name},price={self.price},size={self.size},qty={self.qty},description={self.description},brand={self.brand},color={self.color})\"\n",
    "    \n",
    "    def __str__(self):\n",
    "        return f\"This product name is {self.name}\"\n",
    "    \n",
    "    def getProductDetail(self):\n",
    "        return {'name':self.name,\n",
    "               'price':self.price\n",
    "               }\n",
    "        \n",
    "    def addProduct(self,name,price,size,qty,description,brand,color):\n",
    "        self.name=name\n",
    "        self.price=price\n",
    "        self.size=size\n",
    "        self.qty=qty\n",
    "        self.description=description\n",
    "        self.brand=brand\n",
    "        self.color=color\n",
    "    \n",
    "    def removeProduct(self):\n",
    "        pass\n",
    "    def getProductByName(self):\n",
    "        pass\n",
    "    \n",
    "    def updateProductQty(self,qty):\n",
    "        print(f\"Existing quantity{self.qty}\")\n",
    "        if self.qty!=qty:\n",
    "            self.qty=qty\n",
    "        print(f\"New quantity{self.qty}\")\n",
    "            \n",
    "        \n",
    "        \n",
    "        \n",
    "    \n",
    "        \n",
    "\n",
    "\n",
    "        "
   ]
  },
  {
   "cell_type": "code",
   "execution_count": 99,
   "id": "f4f60b61",
   "metadata": {},
   "outputs": [],
   "source": [
    "p1.addProduct(name='Mobile',price=890,size='Large',qty=890,description=\"This is a product\",brand='XYZ',color='yellow')"
   ]
  },
  {
   "cell_type": "code",
   "execution_count": 100,
   "id": "ce23024f",
   "metadata": {},
   "outputs": [
    {
     "data": {
      "text/plain": [
       "{'name': 'Mobile', 'price': 890}"
      ]
     },
     "execution_count": 100,
     "metadata": {},
     "output_type": "execute_result"
    }
   ],
   "source": [
    "p1.getProductDetail()"
   ]
  },
  {
   "cell_type": "code",
   "execution_count": 101,
   "id": "259b06d4",
   "metadata": {},
   "outputs": [
    {
     "name": "stdout",
     "output_type": "stream",
     "text": [
      "None\n"
     ]
    }
   ],
   "source": [
    "print(p1.updateProductQty(100))"
   ]
  },
  {
   "cell_type": "code",
   "execution_count": 118,
   "id": "95135b3f",
   "metadata": {},
   "outputs": [],
   "source": [
    "class Employee:\n",
    "    def __init__(self,emp_name,age):\n",
    "        self.emp_name=emp_name\n",
    "        self.age=age\n",
    "        \n",
    "    def getEmployeeDetail(self):\n",
    "        print(\"EmpName:\",self.emp_name)\n",
    "        print(\"Age:\",self.age)\n",
    "    def addAttendance(self):\n",
    "        print(\"Attendance added\")"
   ]
  },
  {
   "cell_type": "code",
   "execution_count": 135,
   "id": "8c7486b9",
   "metadata": {},
   "outputs": [],
   "source": [
    "class Manager(Employee):\n",
    "    def __init__(self,emp_name,age,no_of_employee):\n",
    "        super().__init__(emp_name,age)\n",
    "       \n",
    "        self.no_of_employee=no_of_employee\n",
    "    \n",
    "    def getEmployeeDetail(self):\n",
    "        super().getEmployeeDetail()\n",
    "        print(\"No of employee\",self.no_of_employee)\n",
    "    \n",
    "    def approveAttendance():\n",
    "        print(\"Attendance approved\")\n",
    "        \n",
    "    def assignTaskToEmployee():\n",
    "        print(\"Assign Task\")\n",
    "    \n",
    " \n",
    "        "
   ]
  },
  {
   "cell_type": "code",
   "execution_count": 136,
   "id": "00dd7f13",
   "metadata": {},
   "outputs": [],
   "source": [
    "m1=Manager('Avnish',23,78)"
   ]
  },
  {
   "cell_type": "code",
   "execution_count": 137,
   "id": "5b429a3d",
   "metadata": {},
   "outputs": [
    {
     "name": "stdout",
     "output_type": "stream",
     "text": [
      "EmpName: Avnish\n",
      "Age: 23\n",
      "No of employee 78\n"
     ]
    }
   ],
   "source": [
    "m1.getEmployeeDetail()"
   ]
  },
  {
   "cell_type": "code",
   "execution_count": 130,
   "id": "011891a1",
   "metadata": {},
   "outputs": [
    {
     "name": "stdout",
     "output_type": "stream",
     "text": [
      "Attendance added\n"
     ]
    }
   ],
   "source": [
    "m1.addAttendance()"
   ]
  },
  {
   "cell_type": "code",
   "execution_count": 131,
   "id": "2c1eb9a9",
   "metadata": {},
   "outputs": [
    {
     "data": {
      "text/plain": [
       "'Avnish'"
      ]
     },
     "execution_count": 131,
     "metadata": {},
     "output_type": "execute_result"
    }
   ],
   "source": [
    "m1.emp_name"
   ]
  },
  {
   "cell_type": "code",
   "execution_count": 153,
   "id": "b1ec1d7c",
   "metadata": {},
   "outputs": [],
   "source": [
    "class RightClass:\n",
    "    \n",
    "    def __init__(self):\n",
    "        print(\"Right class called\")\n",
    "    \n",
    "    def call_me(self):\n",
    "        print(\"Right class call me called\")\n",
    "    \n",
    "    "
   ]
  },
  {
   "cell_type": "code",
   "execution_count": 154,
   "id": "5bdf5649",
   "metadata": {},
   "outputs": [],
   "source": [
    "class LeftClass:\n",
    "    \n",
    "    def __init__(self):\n",
    "        print(\"LeftClass class called\")\n",
    "    \n",
    "    def call_me(self):\n",
    "        print(\"LeftClass class call me called\")\n",
    "    \n",
    "    "
   ]
  },
  {
   "cell_type": "code",
   "execution_count": 163,
   "id": "c0c71ccc",
   "metadata": {},
   "outputs": [],
   "source": [
    "class ChildClass(RightClass,LeftClass):\n",
    "    def __init__(self):\n",
    "        print(\"ChildClass class called\")\n",
    "    \n",
    "    def call_me(self):\n",
    "        LeftClass().call_me()\n",
    "        print(\"ChildClass class call me called\")\n",
    "    \n",
    "    "
   ]
  },
  {
   "cell_type": "code",
   "execution_count": 164,
   "id": "ef75102b",
   "metadata": {},
   "outputs": [
    {
     "name": "stdout",
     "output_type": "stream",
     "text": [
      "ChildClass class called\n"
     ]
    }
   ],
   "source": [
    "c1=ChildClass()"
   ]
  },
  {
   "cell_type": "code",
   "execution_count": 165,
   "id": "1a3e5608",
   "metadata": {},
   "outputs": [
    {
     "name": "stdout",
     "output_type": "stream",
     "text": [
      "LeftClass class called\n",
      "LeftClass class call me called\n",
      "ChildClass class call me called\n"
     ]
    }
   ],
   "source": [
    "c1.call_me()"
   ]
  },
  {
   "cell_type": "code",
   "execution_count": null,
   "id": "660b9253",
   "metadata": {},
   "outputs": [],
   "source": []
  }
 ],
 "metadata": {
  "kernelspec": {
   "display_name": "Python 3",
   "language": "python",
   "name": "python3"
  },
  "language_info": {
   "codemirror_mode": {
    "name": "ipython",
    "version": 3
   },
   "file_extension": ".py",
   "mimetype": "text/x-python",
   "name": "python",
   "nbconvert_exporter": "python",
   "pygments_lexer": "ipython3",
   "version": "3.8.8"
  }
 },
 "nbformat": 4,
 "nbformat_minor": 5
}
