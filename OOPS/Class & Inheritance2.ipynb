{
 "cells": [
  {
   "cell_type": "code",
   "execution_count": 9,
   "id": "a001dae2",
   "metadata": {},
   "outputs": [],
   "source": [
    "class Product:\n",
    "    def __init__(self,name=None,price=None,size=None,qty=None,description=None,brand=None,color=None):\n",
    "        self.name=name\n",
    "        self.price=price\n",
    "        self.size=size\n",
    "        self.qty=qty\n",
    "        self.description=description\n",
    "        self.brand=brand\n",
    "        self.color=color\n",
    "    def __repr__(self):\n",
    "        return f\"Product(name={self.name},price={self.price},size={self.size},qty={self.qty},description={self.description},brand={self.brand},color={self.color})\"\n",
    "    \n",
    "    def __str__(self):\n",
    "        return f\"This product name is {self.name}\"\n",
    "    \n",
    "    def getProductDetail(self):\n",
    "        return {'name':self.name,\n",
    "               'price':self.price\n",
    "               }\n",
    "        \n",
    "    def addProduct(self,name,price,size,qty,description,brand,color):\n",
    "        self.name=name\n",
    "        self.price=price\n",
    "        self.size=size\n",
    "        self.qty=qty\n",
    "        self.description=description\n",
    "        self.brand=brand\n",
    "        self.color=color\n",
    "    \n",
    "    def removeProduct(self):\n",
    "        pass\n",
    "    def getProductByName(self):\n",
    "        pass\n",
    "    \n",
    "    def updateProductQty(self,qty):\n",
    "        print(f\"Existing quantity{self.qty}\")\n",
    "        if self.qty!=qty:\n",
    "            self.qty=qty\n",
    "        else:\n",
    "            print(\"New quantity is same as old quantity\")\n",
    "        print(f\"New quantity{self.qty}\")\n",
    "            \n",
    "        \n",
    "        \n",
    "        \n",
    "    \n",
    "        \n",
    "\n",
    "\n",
    "        "
   ]
  },
  {
   "cell_type": "code",
   "execution_count": 10,
   "id": "e5a32b73",
   "metadata": {},
   "outputs": [],
   "source": [
    "p1=Product()"
   ]
  },
  {
   "cell_type": "code",
   "execution_count": 11,
   "id": "6c90adc3",
   "metadata": {},
   "outputs": [],
   "source": [
    "p1.addProduct(name='Mobile',price=890,size='Large',qty=890,description=\"This is a product\",brand='XYZ',color='yellow')"
   ]
  },
  {
   "cell_type": "code",
   "execution_count": 12,
   "id": "0b36dcf3",
   "metadata": {},
   "outputs": [
    {
     "data": {
      "text/plain": [
       "{'name': 'Mobile', 'price': 890}"
      ]
     },
     "execution_count": 12,
     "metadata": {},
     "output_type": "execute_result"
    }
   ],
   "source": [
    "p1.getProductDetail()"
   ]
  },
  {
   "cell_type": "code",
   "execution_count": 13,
   "id": "dba25aa5",
   "metadata": {},
   "outputs": [
    {
     "name": "stdout",
     "output_type": "stream",
     "text": [
      "Existing quantity890\n",
      "New quantity100\n"
     ]
    }
   ],
   "source": [
    "p1.updateProductQty(100)"
   ]
  },
  {
   "cell_type": "code",
   "execution_count": 14,
   "id": "abc784a1",
   "metadata": {},
   "outputs": [
    {
     "name": "stdout",
     "output_type": "stream",
     "text": [
      "Existing quantity100\n",
      "New quantity is same as old quantity\n",
      "New quantity100\n"
     ]
    }
   ],
   "source": [
    "p1.updateProductQty(100)"
   ]
  },
  {
   "cell_type": "code",
   "execution_count": null,
   "id": "6c8cbee2",
   "metadata": {},
   "outputs": [],
   "source": []
  }
 ],
 "metadata": {
  "kernelspec": {
   "display_name": "Python 3",
   "language": "python",
   "name": "python3"
  },
  "language_info": {
   "codemirror_mode": {
    "name": "ipython",
    "version": 3
   },
   "file_extension": ".py",
   "mimetype": "text/x-python",
   "name": "python",
   "nbconvert_exporter": "python",
   "pygments_lexer": "ipython3",
   "version": "3.8.8"
  }
 },
 "nbformat": 4,
 "nbformat_minor": 5
}
