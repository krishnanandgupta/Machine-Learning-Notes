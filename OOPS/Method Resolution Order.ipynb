{
 "cells": [
  {
   "cell_type": "code",
   "execution_count": null,
   "id": "098a7b15",
   "metadata": {},
   "outputs": [],
   "source": []
  },
  {
   "cell_type": "code",
   "execution_count": 2,
   "id": "1b4e48f5",
   "metadata": {},
   "outputs": [],
   "source": [
    "class BaseClass:\n",
    "    def call_me(self):\n",
    "        print(\"Base class called\")\n",
    "        \n",
    "        \n",
    "class LeftClass(BaseClass):\n",
    "    def call_me(self):\n",
    "        print(\"Left call_me started....\")\n",
    "        super(LeftClass,self).call_me()\n",
    "        print(\"Left class called\")\n",
    "        \n",
    "        \n",
    "class MiddleClass(BaseClass):\n",
    "    def call_me(self):\n",
    "        print(\"Middle call_me started....\")\n",
    "        super(MiddleClass,self).call_me()\n",
    "        print(\"Middle class called\")\n",
    "    \n",
    "    \n",
    "class RightClass(BaseClass):\n",
    "    def call_me(self):\n",
    "        print(\"Right call_me started....\")\n",
    "        super(RightClass,self).call_me()\n",
    "        #super(LeftClass,self).call_me()\n",
    "        print(\"RightClass class called\")\n",
    "        \n",
    "        \n",
    "class childClass(LeftClass,MiddleClass,RightClass):\n",
    "    def call_me(self):\n",
    "        print(\"Childclass started...\")\n",
    "        super(RightClass,self).call_me()\n",
    "        print(\"Chilclass class called\")\n",
    "    \n",
    "    "
   ]
  },
  {
   "cell_type": "code",
   "execution_count": 3,
   "id": "38563177",
   "metadata": {
    "scrolled": true
   },
   "outputs": [
    {
     "name": "stdout",
     "output_type": "stream",
     "text": [
      "Childclass started...\n",
      "Base class called\n",
      "Chilclass class called\n"
     ]
    }
   ],
   "source": [
    "c=childClass()\n",
    "c.call_me()"
   ]
  },
  {
   "cell_type": "code",
   "execution_count": 4,
   "id": "67ba0aa6",
   "metadata": {},
   "outputs": [
    {
     "data": {
      "text/plain": [
       "(__main__.childClass,\n",
       " __main__.LeftClass,\n",
       " __main__.MiddleClass,\n",
       " __main__.RightClass,\n",
       " __main__.BaseClass,\n",
       " object)"
      ]
     },
     "execution_count": 4,
     "metadata": {},
     "output_type": "execute_result"
    }
   ],
   "source": [
    "childClass.__mro__\n"
   ]
  },
  {
   "cell_type": "code",
   "execution_count": 5,
   "id": "d2031a31",
   "metadata": {},
   "outputs": [
    {
     "name": "stdout",
     "output_type": "stream",
     "text": [
      "Childclass started...\n",
      "Base class called\n",
      "Chilclass class called\n"
     ]
    }
   ],
   "source": [
    "c=childClass()\n",
    "c.call_me()"
   ]
  },
  {
   "cell_type": "code",
   "execution_count": 6,
   "id": "baee17ce",
   "metadata": {},
   "outputs": [
    {
     "name": "stdout",
     "output_type": "stream",
     "text": [
      "Childclass started...\n",
      "Base class called\n",
      "Chilclass class called\n"
     ]
    }
   ],
   "source": [
    "c.call_me()"
   ]
  },
  {
   "cell_type": "code",
   "execution_count": 7,
   "id": "064b0cf1",
   "metadata": {},
   "outputs": [],
   "source": [
    "class BaseClass:\n",
    "    def call_me(self):\n",
    "        print(\"Base class called\")\n",
    "        \n",
    "class LeftClass(BaseClass):\n",
    "    def call_me(self):\n",
    "        super().call_me()\n",
    "        print(\"Left class called\")\n",
    "\n",
    "class RightClass(BaseClass):\n",
    "    def call_me(self):\n",
    "        super().call_me()\n",
    "        print(\"RightClass class called\")\n",
    "        \n",
    "class childClass(LeftClass,RightClass):\n",
    "    def call_me(self):\n",
    "        super().call_me()\n",
    "        print(\"Chilclass class called\")\n",
    "    \n",
    "    "
   ]
  },
  {
   "cell_type": "code",
   "execution_count": 8,
   "id": "ad9c5290",
   "metadata": {},
   "outputs": [
    {
     "name": "stdout",
     "output_type": "stream",
     "text": [
      "Base class called\n",
      "RightClass class called\n",
      "Left class called\n",
      "Chilclass class called\n"
     ]
    }
   ],
   "source": [
    "c=childClass()\n",
    "c.call_me()"
   ]
  },
  {
   "cell_type": "code",
   "execution_count": 9,
   "id": "faff0d37",
   "metadata": {},
   "outputs": [
    {
     "data": {
      "text/plain": [
       "5"
      ]
     },
     "execution_count": 9,
     "metadata": {},
     "output_type": "execute_result"
    }
   ],
   "source": [
    "2+3"
   ]
  },
  {
   "cell_type": "code",
   "execution_count": 10,
   "id": "b8e3da76",
   "metadata": {},
   "outputs": [],
   "source": [
    "class OperatorOverloadingDemo:\n",
    "    def __init__(self,a):\n",
    "        self.a=a\n",
    "        \n",
    "    \n",
    "    def __add__(self,b):\n",
    "        print(f\"Sum of {self.a}+{b}={self.a-b}\")"
   ]
  },
  {
   "cell_type": "code",
   "execution_count": 11,
   "id": "a51491da",
   "metadata": {},
   "outputs": [],
   "source": [
    "num5=OperatorOverloadingDemo(5)"
   ]
  },
  {
   "cell_type": "code",
   "execution_count": 12,
   "id": "1f0c5ca1",
   "metadata": {},
   "outputs": [],
   "source": [
    "num5.a=10"
   ]
  },
  {
   "cell_type": "code",
   "execution_count": 14,
   "id": "2999f8f0",
   "metadata": {},
   "outputs": [
    {
     "name": "stdout",
     "output_type": "stream",
     "text": [
      "Sum of 10+9=1\n"
     ]
    }
   ],
   "source": [
    "num5+9"
   ]
  },
  {
   "cell_type": "code",
   "execution_count": 15,
   "id": "f5717e05",
   "metadata": {},
   "outputs": [],
   "source": [
    "def add(a,b):\n",
    "    return a+b"
   ]
  },
  {
   "cell_type": "code",
   "execution_count": 16,
   "id": "e3ef1e54",
   "metadata": {},
   "outputs": [
    {
     "data": {
      "text/plain": [
       "7"
      ]
     },
     "execution_count": 16,
     "metadata": {},
     "output_type": "execute_result"
    }
   ],
   "source": [
    "add(3,4)"
   ]
  },
  {
   "cell_type": "code",
   "execution_count": 17,
   "id": "67304ebf",
   "metadata": {},
   "outputs": [
    {
     "data": {
      "text/plain": [
       "'Avnish Yadav'"
      ]
     },
     "execution_count": 17,
     "metadata": {},
     "output_type": "execute_result"
    }
   ],
   "source": [
    "add('Avnish ','Yadav')"
   ]
  },
  {
   "cell_type": "code",
   "execution_count": null,
   "id": "75022e8c",
   "metadata": {},
   "outputs": [],
   "source": [
    "function add(string a,string b)\n",
    "{\n",
    "    \n",
    "    \n",
    "}"
   ]
  },
  {
   "cell_type": "code",
   "execution_count": 72,
   "id": "3f4bad84",
   "metadata": {},
   "outputs": [],
   "source": [
    "import math"
   ]
  },
  {
   "cell_type": "code",
   "execution_count": 73,
   "id": "ea10c666",
   "metadata": {},
   "outputs": [
    {
     "data": {
      "text/plain": [
       "3.141592653589793"
      ]
     },
     "execution_count": 73,
     "metadata": {},
     "output_type": "execute_result"
    }
   ],
   "source": [
    "math.pi"
   ]
  },
  {
   "cell_type": "code",
   "execution_count": null,
   "id": "cd5e7c29",
   "metadata": {},
   "outputs": [],
   "source": []
  }
 ],
 "metadata": {
  "kernelspec": {
   "display_name": "Python 3",
   "language": "python",
   "name": "python3"
  },
  "language_info": {
   "codemirror_mode": {
    "name": "ipython",
    "version": 3
   },
   "file_extension": ".py",
   "mimetype": "text/x-python",
   "name": "python",
   "nbconvert_exporter": "python",
   "pygments_lexer": "ipython3",
   "version": "3.8.8"
  }
 },
 "nbformat": 4,
 "nbformat_minor": 5
}
