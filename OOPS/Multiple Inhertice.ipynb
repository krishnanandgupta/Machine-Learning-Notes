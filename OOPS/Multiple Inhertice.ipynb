{
 "cells": [
  {
   "cell_type": "markdown",
   "id": "344c3d13",
   "metadata": {},
   "source": [
    "## Without using existing functionality of Parent Class"
   ]
  },
  {
   "cell_type": "code",
   "execution_count": 1,
   "id": "dbe1c060",
   "metadata": {},
   "outputs": [],
   "source": [
    "class BaseClass:\n",
    "    def call_me(self):\n",
    "        print(\"Base class called\")\n",
    "        \n",
    "        \n",
    "class LeftClass(BaseClass):\n",
    "    def call_me(self):\n",
    "        print(\"Left class called\")\n",
    "\n",
    "class RightClass(BaseClass):\n",
    "    def call_me(self):\n",
    "        print(\"RightClass class called\")\n",
    "        \n",
    "class childClass(LeftClass,RightClass):\n",
    "    def call_me(self):\n",
    "        print(\"Chilclass class called\")\n",
    "    \n",
    "    "
   ]
  },
  {
   "cell_type": "markdown",
   "id": "5f058682",
   "metadata": {},
   "source": [
    "## 1st Example"
   ]
  },
  {
   "cell_type": "code",
   "execution_count": 2,
   "id": "62045d58",
   "metadata": {},
   "outputs": [],
   "source": [
    "c=childClass()"
   ]
  },
  {
   "cell_type": "code",
   "execution_count": 3,
   "id": "74402f2a",
   "metadata": {},
   "outputs": [
    {
     "name": "stdout",
     "output_type": "stream",
     "text": [
      "Chilclass class called\n"
     ]
    }
   ],
   "source": [
    "c.call_me()"
   ]
  },
  {
   "cell_type": "markdown",
   "id": "46c61dca",
   "metadata": {},
   "source": [
    "## 2nd Example"
   ]
  },
  {
   "cell_type": "code",
   "execution_count": 5,
   "id": "81a4c2fc",
   "metadata": {},
   "outputs": [],
   "source": [
    "class BaseClass:\n",
    "    def call_me(self):\n",
    "        print(\"Base class called\")\n",
    "        \n",
    "        \n",
    "class LeftClass(BaseClass):\n",
    "    def call_me(self):\n",
    "        BaseClass.call_me(self)\n",
    "        print(\"Left class called\")\n",
    "\n",
    "class RightClass(BaseClass):\n",
    "    def call_me(self):\n",
    "        BaseClass.call_me(self)\n",
    "        print(\"RightClass class called\")\n",
    "        \n",
    "class childClass(LeftClass,RightClass):\n",
    "    def call_me(self):\n",
    "        LeftClass.call_me(self)\n",
    "        RightClass.call_me(self)\n",
    "        print(\"Chilclass class called\")\n",
    "    \n",
    "    "
   ]
  },
  {
   "cell_type": "code",
   "execution_count": 6,
   "id": "7fb89a9f",
   "metadata": {},
   "outputs": [],
   "source": [
    "c=childClass()"
   ]
  },
  {
   "cell_type": "code",
   "execution_count": 7,
   "id": "54987a63",
   "metadata": {},
   "outputs": [
    {
     "name": "stdout",
     "output_type": "stream",
     "text": [
      "Base class called\n",
      "Left class called\n",
      "Base class called\n",
      "RightClass class called\n",
      "Chilclass class called\n"
     ]
    }
   ],
   "source": [
    "c.call_me()"
   ]
  },
  {
   "cell_type": "code",
   "execution_count": 8,
   "id": "d6488e3e",
   "metadata": {},
   "outputs": [],
   "source": [
    "class BaseClass:\n",
    "    def call_me(self):\n",
    "        print(\"Base class called\")\n",
    "        \n",
    "class LeftClass(BaseClass):\n",
    "    def call_me(self):\n",
    "        self.call_me()\n",
    "        print(\"Left class called\")\n",
    "\n",
    "class RightClass(BaseClass):\n",
    "    def call_me(self):\n",
    "        self.call_me()\n",
    "        print(\"RightClass class called\")\n",
    "        \n",
    "class childClass(LeftClass,RightClass):\n",
    "    def call_me(self):\n",
    "        self.call_me()\n",
    "        print(\"Chilclass class called\")\n",
    "    \n",
    "    "
   ]
  },
  {
   "cell_type": "code",
   "execution_count": 9,
   "id": "10dc008f",
   "metadata": {},
   "outputs": [
    {
     "ename": "RecursionError",
     "evalue": "maximum recursion depth exceeded",
     "output_type": "error",
     "traceback": [
      "\u001b[1;31m---------------------------------------------------------------------------\u001b[0m",
      "\u001b[1;31mRecursionError\u001b[0m                            Traceback (most recent call last)",
      "\u001b[1;32m<ipython-input-9-975c97d3af4b>\u001b[0m in \u001b[0;36m<module>\u001b[1;34m\u001b[0m\n\u001b[0;32m      1\u001b[0m \u001b[0mc\u001b[0m\u001b[1;33m=\u001b[0m\u001b[0mchildClass\u001b[0m\u001b[1;33m(\u001b[0m\u001b[1;33m)\u001b[0m\u001b[1;33m\u001b[0m\u001b[1;33m\u001b[0m\u001b[0m\n\u001b[1;32m----> 2\u001b[1;33m \u001b[0mc\u001b[0m\u001b[1;33m.\u001b[0m\u001b[0mcall_me\u001b[0m\u001b[1;33m(\u001b[0m\u001b[1;33m)\u001b[0m\u001b[1;33m\u001b[0m\u001b[1;33m\u001b[0m\u001b[0m\n\u001b[0m",
      "\u001b[1;32m<ipython-input-8-69ade3d33eb9>\u001b[0m in \u001b[0;36mcall_me\u001b[1;34m(self)\u001b[0m\n\u001b[0;32m     15\u001b[0m \u001b[1;32mclass\u001b[0m \u001b[0mchildClass\u001b[0m\u001b[1;33m(\u001b[0m\u001b[0mLeftClass\u001b[0m\u001b[1;33m,\u001b[0m\u001b[0mRightClass\u001b[0m\u001b[1;33m)\u001b[0m\u001b[1;33m:\u001b[0m\u001b[1;33m\u001b[0m\u001b[1;33m\u001b[0m\u001b[0m\n\u001b[0;32m     16\u001b[0m     \u001b[1;32mdef\u001b[0m \u001b[0mcall_me\u001b[0m\u001b[1;33m(\u001b[0m\u001b[0mself\u001b[0m\u001b[1;33m)\u001b[0m\u001b[1;33m:\u001b[0m\u001b[1;33m\u001b[0m\u001b[1;33m\u001b[0m\u001b[0m\n\u001b[1;32m---> 17\u001b[1;33m         \u001b[0mself\u001b[0m\u001b[1;33m.\u001b[0m\u001b[0mcall_me\u001b[0m\u001b[1;33m(\u001b[0m\u001b[1;33m)\u001b[0m\u001b[1;33m\u001b[0m\u001b[1;33m\u001b[0m\u001b[0m\n\u001b[0m\u001b[0;32m     18\u001b[0m         \u001b[0mprint\u001b[0m\u001b[1;33m(\u001b[0m\u001b[1;34m\"Chilclass class called\"\u001b[0m\u001b[1;33m)\u001b[0m\u001b[1;33m\u001b[0m\u001b[1;33m\u001b[0m\u001b[0m\n\u001b[0;32m     19\u001b[0m \u001b[1;33m\u001b[0m\u001b[0m\n",
      "... last 1 frames repeated, from the frame below ...\n",
      "\u001b[1;32m<ipython-input-8-69ade3d33eb9>\u001b[0m in \u001b[0;36mcall_me\u001b[1;34m(self)\u001b[0m\n\u001b[0;32m     15\u001b[0m \u001b[1;32mclass\u001b[0m \u001b[0mchildClass\u001b[0m\u001b[1;33m(\u001b[0m\u001b[0mLeftClass\u001b[0m\u001b[1;33m,\u001b[0m\u001b[0mRightClass\u001b[0m\u001b[1;33m)\u001b[0m\u001b[1;33m:\u001b[0m\u001b[1;33m\u001b[0m\u001b[1;33m\u001b[0m\u001b[0m\n\u001b[0;32m     16\u001b[0m     \u001b[1;32mdef\u001b[0m \u001b[0mcall_me\u001b[0m\u001b[1;33m(\u001b[0m\u001b[0mself\u001b[0m\u001b[1;33m)\u001b[0m\u001b[1;33m:\u001b[0m\u001b[1;33m\u001b[0m\u001b[1;33m\u001b[0m\u001b[0m\n\u001b[1;32m---> 17\u001b[1;33m         \u001b[0mself\u001b[0m\u001b[1;33m.\u001b[0m\u001b[0mcall_me\u001b[0m\u001b[1;33m(\u001b[0m\u001b[1;33m)\u001b[0m\u001b[1;33m\u001b[0m\u001b[1;33m\u001b[0m\u001b[0m\n\u001b[0m\u001b[0;32m     18\u001b[0m         \u001b[0mprint\u001b[0m\u001b[1;33m(\u001b[0m\u001b[1;34m\"Chilclass class called\"\u001b[0m\u001b[1;33m)\u001b[0m\u001b[1;33m\u001b[0m\u001b[1;33m\u001b[0m\u001b[0m\n\u001b[0;32m     19\u001b[0m \u001b[1;33m\u001b[0m\u001b[0m\n",
      "\u001b[1;31mRecursionError\u001b[0m: maximum recursion depth exceeded"
     ]
    }
   ],
   "source": [
    "c=childClass()\n",
    "c.call_me()"
   ]
  },
  {
   "cell_type": "markdown",
   "id": "f6b627c4",
   "metadata": {},
   "source": [
    "## With help of super we can call anchestor or sibling "
   ]
  },
  {
   "cell_type": "code",
   "execution_count": 10,
   "id": "ee5a09e1",
   "metadata": {},
   "outputs": [],
   "source": [
    "class BaseClass:\n",
    "    def call_me(self):\n",
    "        print(\"Base class called\")\n",
    "        \n",
    "class LeftClass(BaseClass):\n",
    "    def call_me(self):\n",
    "        super().call_me()\n",
    "        print(\"Left class called\")\n",
    "\n",
    "class RightClass(BaseClass):\n",
    "    def call_me(self):\n",
    "        super().call_me()\n",
    "        print(\"RightClass class called\")\n",
    "        \n",
    "class childClass(LeftClass,RightClass):\n",
    "    def call_me(self):\n",
    "        super().call_me()\n",
    "        print(\"Chilclass class called\")\n",
    "    \n",
    "    "
   ]
  },
  {
   "cell_type": "code",
   "execution_count": 11,
   "id": "4c5c1660",
   "metadata": {},
   "outputs": [],
   "source": [
    "c=childClass()"
   ]
  },
  {
   "cell_type": "code",
   "execution_count": 12,
   "id": "724d8935",
   "metadata": {},
   "outputs": [
    {
     "name": "stdout",
     "output_type": "stream",
     "text": [
      "Base class called\n",
      "RightClass class called\n",
      "Left class called\n",
      "Chilclass class called\n"
     ]
    }
   ],
   "source": [
    "c.call_me()"
   ]
  },
  {
   "cell_type": "code",
   "execution_count": 13,
   "id": "c3128bee",
   "metadata": {},
   "outputs": [],
   "source": [
    "class BaseClass:\n",
    "    def call_me(self):\n",
    "        print(\"Base class called\")\n",
    "        \n",
    "class LeftClass(BaseClass):\n",
    "    def call_me(self):\n",
    "        #super(BaseClass,self).call_me()\n",
    "        print(\"Left class called\")\n",
    "\n",
    "class RightClass(BaseClass):\n",
    "    def call_me(self):\n",
    "        #super(LeftClass,self).call_me()\n",
    "        print(\"RightClass class called\")\n",
    "        \n",
    "class childClass(LeftClass,RightClass):\n",
    "    def call_me(self):\n",
    "        super(RightClass,self).call_me()\n",
    "        print(\"Chilclass class called\")\n",
    "    \n",
    "    "
   ]
  },
  {
   "cell_type": "code",
   "execution_count": 14,
   "id": "4c2b3f13",
   "metadata": {},
   "outputs": [],
   "source": [
    "c=childClass()"
   ]
  },
  {
   "cell_type": "code",
   "execution_count": 16,
   "id": "f3151456",
   "metadata": {},
   "outputs": [
    {
     "name": "stdout",
     "output_type": "stream",
     "text": [
      "Base class called\n",
      "Chilclass class called\n"
     ]
    }
   ],
   "source": [
    "c.call_me()"
   ]
  },
  {
   "cell_type": "code",
   "execution_count": null,
   "id": "255ea48e",
   "metadata": {},
   "outputs": [],
   "source": []
  }
 ],
 "metadata": {
  "kernelspec": {
   "display_name": "Python 3",
   "language": "python",
   "name": "python3"
  },
  "language_info": {
   "codemirror_mode": {
    "name": "ipython",
    "version": 3
   },
   "file_extension": ".py",
   "mimetype": "text/x-python",
   "name": "python",
   "nbconvert_exporter": "python",
   "pygments_lexer": "ipython3",
   "version": "3.8.8"
  }
 },
 "nbformat": 4,
 "nbformat_minor": 5
}
