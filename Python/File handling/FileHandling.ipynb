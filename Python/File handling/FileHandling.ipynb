{
 "cells": [
  {
   "cell_type": "code",
   "execution_count": 6,
   "id": "97e2f323",
   "metadata": {},
   "outputs": [],
   "source": [
    "class AudioFile:\n",
    "    def __init__(self, filename):\n",
    "        if not filename.endswith(self.ext):\n",
    "            raise Exception(\"Invalid file format\")\n",
    "        self.filename = filename\n",
    "class MP3File(AudioFile):\n",
    "    ext = \"mp3\"\n",
    "    def play(self):\n",
    "        print(\"playing {} as mp3\".format(self.filename))\n",
    "class WavFile(AudioFile):\n",
    "    ext = \"wav\"\n",
    "    def play(self):\n",
    "        print(\"playing {} as wav\".format(self.filename))\n",
    "class OggFile(AudioFile):\n",
    "    ext = \"ogg\"\n",
    "    def play(self):\n",
    "        print(\"playing {} as ogg\".format(self.filename))"
   ]
  },
  {
   "cell_type": "code",
   "execution_count": null,
   "id": "b8d0ce82",
   "metadata": {},
   "outputs": [],
   "source": []
  },
  {
   "cell_type": "code",
   "execution_count": 7,
   "id": "a23780e3",
   "metadata": {},
   "outputs": [],
   "source": [
    "a=MP3File(\"avn.mp3\")"
   ]
  },
  {
   "cell_type": "code",
   "execution_count": 8,
   "id": "2d2bb54d",
   "metadata": {},
   "outputs": [
    {
     "name": "stdout",
     "output_type": "stream",
     "text": [
      "playing avn.mp3 as mp3\n"
     ]
    }
   ],
   "source": [
    "a.play()"
   ]
  },
  {
   "cell_type": "code",
   "execution_count": 9,
   "id": "4abcddc1",
   "metadata": {},
   "outputs": [
    {
     "ename": "Exception",
     "evalue": "Invalid file format",
     "output_type": "error",
     "traceback": [
      "\u001b[1;31m---------------------------------------------------------------------------\u001b[0m",
      "\u001b[1;31mException\u001b[0m                                 Traceback (most recent call last)",
      "\u001b[1;32m<ipython-input-9-9f565fb24696>\u001b[0m in \u001b[0;36m<module>\u001b[1;34m\u001b[0m\n\u001b[1;32m----> 1\u001b[1;33m \u001b[0mb\u001b[0m\u001b[1;33m=\u001b[0m\u001b[0mMP3File\u001b[0m\u001b[1;33m(\u001b[0m\u001b[1;34m\"avn.ogg\"\u001b[0m\u001b[1;33m)\u001b[0m\u001b[1;33m\u001b[0m\u001b[1;33m\u001b[0m\u001b[0m\n\u001b[0m",
      "\u001b[1;32m<ipython-input-6-9f67084646a8>\u001b[0m in \u001b[0;36m__init__\u001b[1;34m(self, filename)\u001b[0m\n\u001b[0;32m      2\u001b[0m     \u001b[1;32mdef\u001b[0m \u001b[0m__init__\u001b[0m\u001b[1;33m(\u001b[0m\u001b[0mself\u001b[0m\u001b[1;33m,\u001b[0m \u001b[0mfilename\u001b[0m\u001b[1;33m)\u001b[0m\u001b[1;33m:\u001b[0m\u001b[1;33m\u001b[0m\u001b[1;33m\u001b[0m\u001b[0m\n\u001b[0;32m      3\u001b[0m         \u001b[1;32mif\u001b[0m \u001b[1;32mnot\u001b[0m \u001b[0mfilename\u001b[0m\u001b[1;33m.\u001b[0m\u001b[0mendswith\u001b[0m\u001b[1;33m(\u001b[0m\u001b[0mself\u001b[0m\u001b[1;33m.\u001b[0m\u001b[0mext\u001b[0m\u001b[1;33m)\u001b[0m\u001b[1;33m:\u001b[0m\u001b[1;33m\u001b[0m\u001b[1;33m\u001b[0m\u001b[0m\n\u001b[1;32m----> 4\u001b[1;33m             \u001b[1;32mraise\u001b[0m \u001b[0mException\u001b[0m\u001b[1;33m(\u001b[0m\u001b[1;34m\"Invalid file format\"\u001b[0m\u001b[1;33m)\u001b[0m\u001b[1;33m\u001b[0m\u001b[1;33m\u001b[0m\u001b[0m\n\u001b[0m\u001b[0;32m      5\u001b[0m         \u001b[0mself\u001b[0m\u001b[1;33m.\u001b[0m\u001b[0mfilename\u001b[0m \u001b[1;33m=\u001b[0m \u001b[0mfilename\u001b[0m\u001b[1;33m\u001b[0m\u001b[1;33m\u001b[0m\u001b[0m\n\u001b[0;32m      6\u001b[0m \u001b[1;32mclass\u001b[0m \u001b[0mMP3File\u001b[0m\u001b[1;33m(\u001b[0m\u001b[0mAudioFile\u001b[0m\u001b[1;33m)\u001b[0m\u001b[1;33m:\u001b[0m\u001b[1;33m\u001b[0m\u001b[1;33m\u001b[0m\u001b[0m\n",
      "\u001b[1;31mException\u001b[0m: Invalid file format"
     ]
    }
   ],
   "source": [
    "b=MP3File(\"avn.ogg\")"
   ]
  },
  {
   "cell_type": "code",
   "execution_count": 10,
   "id": "19a47cad",
   "metadata": {},
   "outputs": [
    {
     "name": "stdout",
     "output_type": "stream",
     "text": [
      "playing abhasb.ogg as ogg\n"
     ]
    }
   ],
   "source": [
    "OggFile(\"abhasb.ogg\").play()"
   ]
  },
  {
   "cell_type": "code",
   "execution_count": 11,
   "id": "972a2f8b",
   "metadata": {},
   "outputs": [],
   "source": [
    "content=\"We are writing file\""
   ]
  },
  {
   "cell_type": "code",
   "execution_count": 12,
   "id": "6fb91a86",
   "metadata": {},
   "outputs": [
    {
     "ename": "NameError",
     "evalue": "name 'f' is not defined",
     "output_type": "error",
     "traceback": [
      "\u001b[1;31m---------------------------------------------------------------------------\u001b[0m",
      "\u001b[1;31mNameError\u001b[0m                                 Traceback (most recent call last)",
      "\u001b[1;32m<ipython-input-12-ff7bfd69c25b>\u001b[0m in \u001b[0;36m<module>\u001b[1;34m\u001b[0m\n\u001b[1;32m----> 1\u001b[1;33m \u001b[0mf\u001b[0m\u001b[1;33m.\u001b[0m\u001b[0mclosed\u001b[0m\u001b[1;33m\u001b[0m\u001b[1;33m\u001b[0m\u001b[0m\n\u001b[0m",
      "\u001b[1;31mNameError\u001b[0m: name 'f' is not defined"
     ]
    }
   ],
   "source": [
    "f.closed"
   ]
  },
  {
   "cell_type": "code",
   "execution_count": 13,
   "id": "0716a8ce",
   "metadata": {},
   "outputs": [
    {
     "name": "stdout",
     "output_type": "stream",
     "text": [
      "Closing file\n"
     ]
    }
   ],
   "source": [
    "f=open(file=\"myfile.txt\",mode='w+')\n",
    "f.write(content)\n",
    "if not f.closed:\n",
    "    print(\"Closing file\")\n",
    "    f.close()"
   ]
  },
  {
   "cell_type": "code",
   "execution_count": 17,
   "id": "0bca0f3f",
   "metadata": {},
   "outputs": [
    {
     "name": "stdout",
     "output_type": "stream",
     "text": [
      "We are writing fileWe are appending text.\n",
      "Closing file\n"
     ]
    }
   ],
   "source": [
    "f=open(file=\"myfile.txt\",mode='r')\n",
    "print(f.read())\n",
    "if not f.closed:\n",
    "    print(\"Closing file\")\n",
    "    f.close()"
   ]
  },
  {
   "cell_type": "code",
   "execution_count": 18,
   "id": "2b3104fa",
   "metadata": {},
   "outputs": [
    {
     "name": "stdout",
     "output_type": "stream",
     "text": [
      "Closing file\n"
     ]
    }
   ],
   "source": [
    "f=open(file=\"myfile.txt\",mode='a+')\n",
    "f.write(\"We are appending text.\")\n",
    "if not f.closed:\n",
    "    print(\"Closing file\")\n",
    "    f.close()"
   ]
  },
  {
   "cell_type": "code",
   "execution_count": 19,
   "id": "dcaf6ee2",
   "metadata": {},
   "outputs": [],
   "source": [
    "with open(\"D:\\myfile.txt\",'w') as f:\n",
    "    f.write(\"We are appending text.\\n We are appending text.\")"
   ]
  },
  {
   "cell_type": "code",
   "execution_count": 20,
   "id": "5f6b0ae3",
   "metadata": {},
   "outputs": [
    {
     "name": "stdout",
     "output_type": "stream",
     "text": [
      "We are appending text.\n",
      " We are appending text.\n",
      "read() method done\n",
      "We are appending text.\n",
      "\n",
      "readline() method done\n",
      "['We are appending text.\\n', ' We are appending text.']\n",
      "We are appending text.\n",
      "\n",
      " We are appending text.\n",
      "====================================================================================================\n",
      "FIle reading competed\n"
     ]
    }
   ],
   "source": [
    "with open(r\"D:\\myfile.txt\",) as f:\n",
    "    print(f.read())\n",
    "    print(\"read() method done\")\n",
    "    f.seek(0)\n",
    "    print(f.readline())\n",
    "    print(\"readline() method done\")\n",
    "    f.seek(0)\n",
    "    print(f.readlines())\n",
    "    \n",
    "    f.seek(0)\n",
    "    for line in f.readlines():\n",
    "        print(line)\n",
    "    print(\"==\"*50)\n",
    "    print(\"FIle reading competed\")"
   ]
  },
  {
   "cell_type": "code",
   "execution_count": 21,
   "id": "738d5eb3",
   "metadata": {},
   "outputs": [],
   "source": [
    "import os"
   ]
  },
  {
   "cell_type": "code",
   "execution_count": 22,
   "id": "8be100e7",
   "metadata": {},
   "outputs": [
    {
     "data": {
      "text/plain": [
       "'C:\\\\Users\\\\anish'"
      ]
     },
     "execution_count": 22,
     "metadata": {},
     "output_type": "execute_result"
    }
   ],
   "source": [
    "r\"C:\\Users\\anish\""
   ]
  },
  {
   "cell_type": "code",
   "execution_count": 23,
   "id": "64ea8c10",
   "metadata": {},
   "outputs": [
    {
     "name": "stdout",
     "output_type": "stream",
     "text": [
      "WE ARE APPENDING TEXT.\n",
      "\n",
      " WE ARE APPENDING TEXT.\n",
      "====================================================================================================\n",
      "FIle reading competed\n"
     ]
    }
   ],
   "source": [
    "with open(r\"D:\\myfile.txt\",) as f:\n",
    "    for line in f.readlines():\n",
    "        print(line.upper())\n",
    "    print(\"==\"*50)\n",
    "    print(\"FIle reading competed\")"
   ]
  },
  {
   "cell_type": "code",
   "execution_count": null,
   "id": "50c55a36",
   "metadata": {},
   "outputs": [],
   "source": []
  }
 ],
 "metadata": {
  "kernelspec": {
   "display_name": "Python 3",
   "language": "python",
   "name": "python3"
  },
  "language_info": {
   "codemirror_mode": {
    "name": "ipython",
    "version": 3
   },
   "file_extension": ".py",
   "mimetype": "text/x-python",
   "name": "python",
   "nbconvert_exporter": "python",
   "pygments_lexer": "ipython3",
   "version": "3.8.8"
  }
 },
 "nbformat": 4,
 "nbformat_minor": 5
}
